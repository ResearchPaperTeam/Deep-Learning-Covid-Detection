{
 "cells": [
  {
   "cell_type": "code",
   "execution_count": 1,
   "id": "43366a36",
   "metadata": {},
   "outputs": [],
   "source": [
    "import os\n",
    "import tensorflow as tf\n",
    "import matplotlib.pyplot as plt\n",
    "import seaborn as sn\n",
    "import cv2\n",
    "import numpy as np\n",
    "import pandas as pd"
   ]
  },
  {
   "cell_type": "code",
   "execution_count": 2,
   "id": "20b727eb",
   "metadata": {},
   "outputs": [],
   "source": [
    "from tensorflow.keras.preprocessing.image import ImageDataGenerator\n",
    "from tensorflow.keras.preprocessing import image_dataset_from_directory\n",
    "from tensorflow.keras.layers import Dense, GlobalAveragePooling2D, Dropout,MaxPooling2D , Conv2D,Flatten\n",
    "from tensorflow.keras.models import Sequential\n",
    "from sklearn.metrics import classification_report\n",
    "from keras.layers import Input, Lambda, Dense, Flatten\n",
    "from keras.models import Model\n",
    "from keras.applications.vgg16 import VGG16\n",
    "from keras.applications.vgg16 import preprocess_input\n",
    "from keras.preprocessing import image\n",
    "from keras.models import Sequential\n",
    "from tensorflow import keras\n",
    "from tensorflow.keras.layers import Activation,BatchNormalization"
   ]
  },
  {
   "cell_type": "code",
   "execution_count": 3,
   "id": "d4e21102",
   "metadata": {},
   "outputs": [
    {
     "data": {
      "text/plain": [
       "['NORMAL', 'PNEUMONIA']"
      ]
     },
     "execution_count": 3,
     "metadata": {},
     "output_type": "execute_result"
    }
   ],
   "source": [
    "os.listdir(r\"C:\\Users\\anmol\\impli\\xray_dataset_covid19\\train\")"
   ]
  },
  {
   "cell_type": "code",
   "execution_count": 10,
   "id": "b6810c82",
   "metadata": {},
   "outputs": [
    {
     "name": "stdout",
     "output_type": "stream",
     "text": [
      "Current working directory: C:\\Users\\anmol\\impli\n"
     ]
    }
   ],
   "source": [
    "# Get the current working directory\n",
    "cwd = os.getcwd()\n",
    "\n",
    "# Print the current working directory\n",
    "print(\"Current working directory: {0}\".format(cwd))"
   ]
  },
  {
   "cell_type": "code",
   "execution_count": 26,
   "id": "c8ee321e",
   "metadata": {},
   "outputs": [],
   "source": [
    "train_dir= r\"C:\\Users\\anmol\\impli\\xray_dataset_covid19\\train\"\n",
    "test_dir= r\"C:\\Users\\anmol\\impli\\xray_dataset_covid19\\test\"\n",
    "\n",
    "num_pneumonia = len(os.listdir(os.path.join(train_dir, 'PNEUMONIA')))\n",
    "num_normal = len(os.listdir(os.path.join(train_dir, 'NORMAL')))"
   ]
  },
  {
   "cell_type": "code",
   "execution_count": 27,
   "id": "f25226c1",
   "metadata": {},
   "outputs": [
    {
     "name": "stdout",
     "output_type": "stream",
     "text": [
      "Weight for class 0: 0.50\n",
      "Weight for class 1: 0.50\n"
     ]
    }
   ],
   "source": [
    "weight_for_0 = num_pneumonia / (num_normal + num_pneumonia)\n",
    "weight_for_1 = num_normal / (num_normal + num_pneumonia)\n",
    "\n",
    "class_weight = {0: weight_for_0, 1: weight_for_1}\n",
    "\n",
    "print(f\"Weight for class 0: {weight_for_0:.2f}\")\n",
    "print(f\"Weight for class 1: {weight_for_1:.2f}\")"
   ]
  },
  {
   "cell_type": "code",
   "execution_count": 12,
   "id": "ed339eba",
   "metadata": {},
   "outputs": [],
   "source": [
    "image_generator = ImageDataGenerator(\n",
    "    rotation_range=20,\n",
    "    width_shift_range=0.1,\n",
    "    shear_range=0.1,\n",
    "    zoom_range=0.1,\n",
    "    samplewise_center=True,\n",
    "    samplewise_std_normalization=True\n",
    ")"
   ]
  },
  {
   "cell_type": "code",
   "execution_count": 14,
   "id": "cfc84dc6",
   "metadata": {},
   "outputs": [
    {
     "name": "stdout",
     "output_type": "stream",
     "text": [
      "Found 148 images belonging to 2 classes.\n",
      "Found 40 images belonging to 2 classes.\n"
     ]
    }
   ],
   "source": [
    "train = image_generator.flow_from_directory(train_dir, \n",
    "                                            batch_size=8, \n",
    "                                            shuffle=True, \n",
    "                                            class_mode='binary',\n",
    "                                            target_size=(180, 180))\n",
    "\n",
    "\n",
    "test = image_generator.flow_from_directory(test_dir, \n",
    "                                            batch_size=1, \n",
    "                                            shuffle=False, \n",
    "                                            class_mode='binary',\n",
    "                                            target_size=(180, 180))"
   ]
  },
  {
   "cell_type": "code",
   "execution_count": 15,
   "id": "74e4ae14",
   "metadata": {},
   "outputs": [],
   "source": [
    "from keras.models import Sequential\n",
    "from keras.layers import GlobalAveragePooling2D\n",
    "from keras.applications import VGG16\n",
    "\n",
    "\n",
    "vgg16_base_model = VGG16(input_shape=(180,180,3),include_top=False,weights='imagenet')\n"
   ]
  },
  {
   "cell_type": "code",
   "execution_count": 16,
   "id": "8e4ba0d4",
   "metadata": {},
   "outputs": [
    {
     "name": "stdout",
     "output_type": "stream",
     "text": [
      "Model: \"vgg16\"\n",
      "_________________________________________________________________\n",
      " Layer (type)                Output Shape              Param #   \n",
      "=================================================================\n",
      " input_1 (InputLayer)        [(None, 180, 180, 3)]     0         \n",
      "                                                                 \n",
      " block1_conv1 (Conv2D)       (None, 180, 180, 64)      1792      \n",
      "                                                                 \n",
      " block1_conv2 (Conv2D)       (None, 180, 180, 64)      36928     \n",
      "                                                                 \n",
      " block1_pool (MaxPooling2D)  (None, 90, 90, 64)        0         \n",
      "                                                                 \n",
      " block2_conv1 (Conv2D)       (None, 90, 90, 128)       73856     \n",
      "                                                                 \n",
      " block2_conv2 (Conv2D)       (None, 90, 90, 128)       147584    \n",
      "                                                                 \n",
      " block2_pool (MaxPooling2D)  (None, 45, 45, 128)       0         \n",
      "                                                                 \n",
      " block3_conv1 (Conv2D)       (None, 45, 45, 256)       295168    \n",
      "                                                                 \n",
      " block3_conv2 (Conv2D)       (None, 45, 45, 256)       590080    \n",
      "                                                                 \n",
      " block3_conv3 (Conv2D)       (None, 45, 45, 256)       590080    \n",
      "                                                                 \n",
      " block3_pool (MaxPooling2D)  (None, 22, 22, 256)       0         \n",
      "                                                                 \n",
      " block4_conv1 (Conv2D)       (None, 22, 22, 512)       1180160   \n",
      "                                                                 \n",
      " block4_conv2 (Conv2D)       (None, 22, 22, 512)       2359808   \n",
      "                                                                 \n",
      " block4_conv3 (Conv2D)       (None, 22, 22, 512)       2359808   \n",
      "                                                                 \n",
      " block4_pool (MaxPooling2D)  (None, 11, 11, 512)       0         \n",
      "                                                                 \n",
      " block5_conv1 (Conv2D)       (None, 11, 11, 512)       2359808   \n",
      "                                                                 \n",
      " block5_conv2 (Conv2D)       (None, 11, 11, 512)       2359808   \n",
      "                                                                 \n",
      " block5_conv3 (Conv2D)       (None, 11, 11, 512)       2359808   \n",
      "                                                                 \n",
      " block5_pool (MaxPooling2D)  (None, 5, 5, 512)         0         \n",
      "                                                                 \n",
      "=================================================================\n",
      "Total params: 14,714,688\n",
      "Trainable params: 14,714,688\n",
      "Non-trainable params: 0\n",
      "_________________________________________________________________\n"
     ]
    }
   ],
   "source": [
    "vgg16_base_model.summary()"
   ]
  },
  {
   "cell_type": "code",
   "execution_count": 17,
   "id": "2f769580",
   "metadata": {},
   "outputs": [],
   "source": [
    "vgg16_model = Sequential([\n",
    "        vgg16_base_model,\n",
    "        GlobalAveragePooling2D(),\n",
    "        Dense(512, activation=\"relu\"),\n",
    "        BatchNormalization(),\n",
    "        Dropout(0.6),\n",
    "        Dense(128, activation=\"relu\"),\n",
    "        BatchNormalization(),\n",
    "        Dropout(0.4),\n",
    "        Dense(64,activation=\"relu\"),\n",
    "        BatchNormalization(),\n",
    "        Dropout(0.3),\n",
    "        Dense(1,activation=\"sigmoid\")\n",
    "    ])\n",
    "    \n",
    "model = Sequential()\n",
    "model.add(vgg16_model.layers[0])"
   ]
  },
  {
   "cell_type": "code",
   "execution_count": 19,
   "id": "383d75b4",
   "metadata": {},
   "outputs": [],
   "source": [
    "opt = tf.keras.optimizers.Adam(learning_rate=0.001)\n",
    "METRICS = [\n",
    "    'accuracy',\n",
    "    tf.keras.metrics.Precision(name='precision'),\n",
    "    tf.keras.metrics.Recall(name='recall')\n",
    "]\n",
    "vgg16_model.compile(optimizer=opt,loss='binary_crossentropy',metrics=METRICS)"
   ]
  },
  {
   "cell_type": "code",
   "execution_count": 31,
   "id": "f3330a27",
   "metadata": {},
   "outputs": [
    {
     "name": "stdout",
     "output_type": "stream",
     "text": [
      "Epoch 1/10\n",
      "19/19 [==============================] - 40s 2s/step - loss: 0.4132 - accuracy: 0.6216 - precision: 0.6250 - recall: 0.6081 - val_loss: 24.5469 - val_accuracy: 0.5000 - val_precision: 0.5000 - val_recall: 1.0000\n",
      "Epoch 2/10\n",
      "19/19 [==============================] - 43s 2s/step - loss: 0.3083 - accuracy: 0.7365 - precision: 0.7397 - recall: 0.7297 - val_loss: 255.7093 - val_accuracy: 0.5750 - val_precision: 0.5652 - val_recall: 0.6500\n",
      "Epoch 3/10\n",
      "19/19 [==============================] - 42s 2s/step - loss: 0.3135 - accuracy: 0.7297 - precision: 0.7237 - recall: 0.7432 - val_loss: 311.6513 - val_accuracy: 0.5000 - val_precision: 0.0000e+00 - val_recall: 0.0000e+00\n",
      "Epoch 4/10\n",
      "19/19 [==============================] - 43s 2s/step - loss: 0.2355 - accuracy: 0.8243 - precision: 0.8750 - recall: 0.7568 - val_loss: 0.1908 - val_accuracy: 0.9250 - val_precision: 1.0000 - val_recall: 0.8500\n",
      "Epoch 5/10\n",
      "19/19 [==============================] - 42s 2s/step - loss: 0.2152 - accuracy: 0.8378 - precision: 0.8788 - recall: 0.7838 - val_loss: 0.1878 - val_accuracy: 0.9250 - val_precision: 1.0000 - val_recall: 0.8500\n",
      "Epoch 6/10\n",
      "19/19 [==============================] - 43s 2s/step - loss: 0.2885 - accuracy: 0.7432 - precision: 0.7432 - recall: 0.7432 - val_loss: 1.1481 - val_accuracy: 0.5500 - val_precision: 1.0000 - val_recall: 0.1000\n",
      "Epoch 7/10\n",
      "19/19 [==============================] - 49s 3s/step - loss: 0.1662 - accuracy: 0.8108 - precision: 0.8194 - recall: 0.7973 - val_loss: 1.4042 - val_accuracy: 0.5500 - val_precision: 0.5263 - val_recall: 1.0000\n",
      "Epoch 8/10\n",
      "19/19 [==============================] - 49s 3s/step - loss: 0.1921 - accuracy: 0.8581 - precision: 0.8442 - recall: 0.8784 - val_loss: 0.4372 - val_accuracy: 0.8000 - val_precision: 1.0000 - val_recall: 0.6000\n",
      "Epoch 9/10\n",
      "19/19 [==============================] - 48s 3s/step - loss: 0.1823 - accuracy: 0.8514 - precision: 0.8421 - recall: 0.8649 - val_loss: 0.1083 - val_accuracy: 0.9500 - val_precision: 0.9500 - val_recall: 0.9500\n",
      "Epoch 10/10\n",
      "19/19 [==============================] - 48s 3s/step - loss: 0.2305 - accuracy: 0.8176 - precision: 0.8133 - recall: 0.8243 - val_loss: 0.2510 - val_accuracy: 0.9000 - val_precision: 1.0000 - val_recall: 0.8000\n"
     ]
    }
   ],
   "source": [
    "r = vgg16_model.fit(train,\n",
    "          epochs=10,\n",
    "          validation_data=test,\n",
    "          class_weight=class_weight,)\n",
    "# #         steps_per_epoch=100,\n",
    "#           steps_per_epoch = len(train)//batch_size,\n",
    "#           validation_steps=len(test)//batch_size"
   ]
  },
  {
   "cell_type": "code",
   "execution_count": 35,
   "id": "7f7fc726",
   "metadata": {},
   "outputs": [],
   "source": [
    "accuracy = r.history['accuracy']\n",
    "val_accuracy  = r.history['val_accuracy']\n",
    "\n",
    "loss = r.history['loss']\n",
    "val_loss = r.history['val_loss']"
   ]
  },
  {
   "cell_type": "code",
   "execution_count": 36,
   "id": "139ecf43",
   "metadata": {},
   "outputs": [
    {
     "data": {
      "image/png": "[encoded data removed]",
      "text/plain": [
       "<Figure size 1080x720 with 2 Axes>"
      ]
     },
     "metadata": {
      "needs_background": "light"
     },
     "output_type": "display_data"
    }
   ],
   "source": [
    "plt.figure(figsize=(15,10))\n",
    "\n",
    "plt.subplot(2, 2, 1)\n",
    "plt.plot(accuracy, label = \"Training accuracy\")\n",
    "plt.plot(val_accuracy, label=\"Validation accuracy\")\n",
    "plt.legend()\n",
    "plt.title(\"Training vs Validation accuracy\")\n",
    "\n",
    "\n",
    "plt.subplot(2,2,2)\n",
    "plt.plot(loss, label = \"Training loss\")\n",
    "plt.plot(val_loss, label=\"Validation loss\")\n",
    "plt.legend()\n",
    "plt.title(\"Training vs Validation loss\")\n",
    "\n",
    "plt.show()"
   ]
  },
  {
   "cell_type": "code",
   "execution_count": 63,
   "id": "6261dbb8",
   "metadata": {},
   "outputs": [
    {
     "name": "stdout",
     "output_type": "stream",
     "text": [
      "40/40 [==============================] - 4s 90ms/step - loss: 0.4005 - accuracy: 0.8250 - precision: 1.0000 - recall: 0.6500\n",
      "Test Accuracy: 82.50%\n",
      "19/19 [==============================] - 13s 691ms/step - loss: 0.6531 - accuracy: 0.7703 - precision: 1.0000 - recall: 0.5405\n",
      "Train Accuracy: 77.03%\n"
     ]
    }
   ],
   "source": [
    "evaluation =vgg16_model.evaluate(test)\n",
    "print(f\"Test Accuracy: {evaluation[1] * 100:.2f}%\")\n",
    "\n",
    "evaluation = vgg16_model.evaluate(train)\n",
    "print(f\"Train Accuracy: {evaluation[1] * 100:.2f}%\")"
   ]
  },
  {
   "cell_type": "code",
   "execution_count": 42,
   "id": "6611c704",
   "metadata": {},
   "outputs": [
    {
     "data": {
      "text/plain": [
       "array([0, 0, 0, 0, 0, 0, 0, 0, 0, 0, 0, 0, 0, 0, 0, 0, 0, 0, 0, 0, 1, 1,\n",
       "       1, 1, 1, 1, 1, 1, 1, 1, 1, 1, 1, 1, 1, 1, 1, 1, 1, 1])"
      ]
     },
     "execution_count": 42,
     "metadata": {},
     "output_type": "execute_result"
    }
   ],
   "source": [
    "real = test.classes\n",
    "real"
   ]
  },
  {
   "cell_type": "code",
   "execution_count": 66,
   "id": "2fbfb627",
   "metadata": {},
   "outputs": [
    {
     "name": "stdout",
     "output_type": "stream",
     "text": [
      "40/40 [==============================] - 5s 126ms/step\n"
     ]
    },
    {
     "data": {
      "text/plain": [
       "array([[[[False, False, False, ...,  True, False, False],\n",
       "         [False, False, False, ...,  True, False, False],\n",
       "         [False, False, False, ...,  True, False, False],\n",
       "         [False, False, False, ...,  True, False, False],\n",
       "         [False, False, False, ...,  True, False, False]],\n",
       "\n",
       "        [[False, False, False, ...,  True, False, False],\n",
       "         [False, False, False, ...,  True, False, False],\n",
       "         [False, False, False, ...,  True, False, False],\n",
       "         [False, False, False, ...,  True, False, False],\n",
       "         [False, False, False, ...,  True, False, False]],\n",
       "\n",
       "        [[False, False, False, ...,  True, False, False],\n",
       "         [False, False, False, ...,  True, False, False],\n",
       "         [False, False, False, ...,  True, False, False],\n",
       "         [False, False, False, ...,  True, False, False],\n",
       "         [False, False, False, ...,  True, False, False]],\n",
       "\n",
       "        [[False, False, False, ...,  True, False, False],\n",
       "         [False, False, False, ...,  True, False, False],\n",
       "         [False, False, False, ...,  True, False, False],\n",
       "         [False, False, False, ...,  True, False, False],\n",
       "         [False, False, False, ...,  True, False, False]],\n",
       "\n",
       "        [[False, False, False, ...,  True, False, False],\n",
       "         [False, False, False, ...,  True, False, False],\n",
       "         [False, False, False, ...,  True, False, False],\n",
       "         [False, False, False, ...,  True, False, False],\n",
       "         [False, False, False, ...,  True, False, False]]],\n",
       "\n",
       "\n",
       "       [[[False, False, False, ...,  True, False, False],\n",
       "         [False, False, False, ...,  True, False, False],\n",
       "         [False, False, False, ...,  True, False, False],\n",
       "         [False, False, False, ...,  True, False, False],\n",
       "         [False, False, False, ...,  True, False, False]],\n",
       "\n",
       "        [[False, False, False, ...,  True, False, False],\n",
       "         [False, False, False, ...,  True, False, False],\n",
       "         [False, False, False, ...,  True, False, False],\n",
       "         [False, False, False, ...,  True, False, False],\n",
       "         [False, False, False, ...,  True, False, False]],\n",
       "\n",
       "        [[False, False, False, ...,  True, False, False],\n",
       "         [False, False, False, ...,  True, False, False],\n",
       "         [False, False, False, ...,  True, False, False],\n",
       "         [False, False, False, ...,  True, False, False],\n",
       "         [False, False, False, ...,  True, False, False]],\n",
       "\n",
       "        [[False, False, False, ...,  True, False, False],\n",
       "         [False, False, False, ...,  True, False, False],\n",
       "         [False, False, False, ...,  True, False, False],\n",
       "         [False, False, False, ...,  True, False, False],\n",
       "         [False, False, False, ...,  True, False, False]],\n",
       "\n",
       "        [[False, False, False, ...,  True, False, False],\n",
       "         [False, False, False, ...,  True, False, False],\n",
       "         [False, False, False, ...,  True, False, False],\n",
       "         [False, False, False, ...,  True, False, False],\n",
       "         [False, False, False, ...,  True, False, False]]],\n",
       "\n",
       "\n",
       "       [[[False, False, False, ...,  True, False, False],\n",
       "         [False, False, False, ...,  True, False, False],\n",
       "         [False, False, False, ...,  True, False, False],\n",
       "         [False, False, False, ...,  True, False, False],\n",
       "         [False, False, False, ...,  True, False, False]],\n",
       "\n",
       "        [[False, False, False, ...,  True, False, False],\n",
       "         [False, False, False, ...,  True, False, False],\n",
       "         [False, False, False, ...,  True, False, False],\n",
       "         [False, False, False, ...,  True, False, False],\n",
       "         [False, False, False, ...,  True, False, False]],\n",
       "\n",
       "        [[False, False, False, ...,  True, False, False],\n",
       "         [False, False, False, ...,  True, False, False],\n",
       "         [False, False, False, ...,  True, False, False],\n",
       "         [False, False, False, ...,  True, False, False],\n",
       "         [False, False, False, ...,  True, False, False]],\n",
       "\n",
       "        [[False, False, False, ...,  True, False, False],\n",
       "         [False, False, False, ...,  True, False, False],\n",
       "         [False, False, False, ...,  True, False, False],\n",
       "         [False, False, False, ...,  True, False, False],\n",
       "         [False, False, False, ...,  True, False, False]],\n",
       "\n",
       "        [[False, False, False, ...,  True, False, False],\n",
       "         [False, False, False, ...,  True, False, False],\n",
       "         [False, False, False, ...,  True, False, False],\n",
       "         [False, False, False, ...,  True, False, False],\n",
       "         [False, False, False, ...,  True, False, False]]],\n",
       "\n",
       "\n",
       "       ...,\n",
       "\n",
       "\n",
       "       [[[False, False, False, ...,  True, False, False],\n",
       "         [False, False, False, ...,  True, False, False],\n",
       "         [False, False, False, ...,  True, False, False],\n",
       "         [False, False, False, ...,  True, False, False],\n",
       "         [False, False, False, ...,  True, False, False]],\n",
       "\n",
       "        [[False, False, False, ...,  True, False, False],\n",
       "         [False, False, False, ...,  True, False, False],\n",
       "         [False, False, False, ...,  True, False, False],\n",
       "         [False, False, False, ...,  True, False, False],\n",
       "         [False, False, False, ...,  True, False, False]],\n",
       "\n",
       "        [[False, False, False, ...,  True, False, False],\n",
       "         [False, False, False, ...,  True, False, False],\n",
       "         [False, False, False, ...,  True, False, False],\n",
       "         [False, False, False, ...,  True, False, False],\n",
       "         [False, False, False, ...,  True, False, False]],\n",
       "\n",
       "        [[False, False, False, ...,  True, False, False],\n",
       "         [False, False, False, ...,  True, False, False],\n",
       "         [False, False, False, ...,  True, False, False],\n",
       "         [False, False, False, ...,  True, False, False],\n",
       "         [False, False, False, ...,  True, False, False]],\n",
       "\n",
       "        [[False, False, False, ...,  True, False, False],\n",
       "         [False, False, False, ...,  True, False, False],\n",
       "         [False, False, False, ...,  True, False, False],\n",
       "         [False, False, False, ...,  True, False, False],\n",
       "         [False, False, False, ...,  True, False, False]]],\n",
       "\n",
       "\n",
       "       [[[False, False, False, ...,  True, False, False],\n",
       "         [False, False, False, ...,  True, False, False],\n",
       "         [False, False, False, ...,  True, False, False],\n",
       "         [False, False, False, ...,  True, False, False],\n",
       "         [False, False, False, ...,  True, False, False]],\n",
       "\n",
       "        [[False, False, False, ...,  True, False, False],\n",
       "         [False, False, False, ...,  True, False, False],\n",
       "         [False, False, False, ...,  True, False, False],\n",
       "         [False, False, False, ...,  True, False, False],\n",
       "         [False, False, False, ...,  True, False, False]],\n",
       "\n",
       "        [[False, False, False, ...,  True, False, False],\n",
       "         [False, False, False, ...,  True, False, False],\n",
       "         [False, False, False, ...,  True, False, False],\n",
       "         [False, False, False, ...,  True, False, False],\n",
       "         [False, False, False, ...,  True, False, False]],\n",
       "\n",
       "        [[False, False, False, ...,  True, False, False],\n",
       "         [False, False, False, ...,  True, False, False],\n",
       "         [False, False, False, ...,  True, False, False],\n",
       "         [False, False, False, ...,  True, False, False],\n",
       "         [False, False, False, ...,  True, False, False]],\n",
       "\n",
       "        [[False, False, False, ...,  True, False, False],\n",
       "         [False, False, False, ...,  True, False, False],\n",
       "         [False, False, False, ...,  True, False, False],\n",
       "         [False, False, False, ...,  True, False, False],\n",
       "         [False, False, False, ...,  True, False, False]]],\n",
       "\n",
       "\n",
       "       [[[False, False, False, ...,  True, False, False],\n",
       "         [False, False, False, ...,  True, False, False],\n",
       "         [False, False, False, ...,  True, False, False],\n",
       "         [False, False, False, ...,  True, False, False],\n",
       "         [False, False, False, ...,  True, False, False]],\n",
       "\n",
       "        [[False, False, False, ...,  True, False, False],\n",
       "         [False, False, False, ...,  True, False, False],\n",
       "         [False, False, False, ...,  True, False, False],\n",
       "         [False, False, False, ...,  True, False, False],\n",
       "         [False, False, False, ...,  True, False, False]],\n",
       "\n",
       "        [[False, False, False, ...,  True, False, False],\n",
       "         [False, False, False, ...,  True, False, False],\n",
       "         [False, False, False, ...,  True, False, False],\n",
       "         [False, False, False, ...,  True, False, False],\n",
       "         [False, False, False, ...,  True, False, False]],\n",
       "\n",
       "        [[False, False, False, ...,  True, False, False],\n",
       "         [False, False, False, ...,  True, False, False],\n",
       "         [False, False, False, ...,  True, False, False],\n",
       "         [False, False, False, ...,  True, False, False],\n",
       "         [False, False, False, ...,  True, False, False]],\n",
       "\n",
       "        [[False, False, False, ...,  True, False, False],\n",
       "         [False, False, False, ...,  True, False, False],\n",
       "         [False, False, False, ...,  True, False, False],\n",
       "         [False, False, False, ...,  True, False, False],\n",
       "         [False, False, False, ...,  True, False, False]]]])"
      ]
     },
     "execution_count": 66,
     "metadata": {},
     "output_type": "execute_result"
    }
   ],
   "source": [
    "predictions = model.predict(test) > 0.5\n",
    "# predictions = [0 if x == False else 1 for x in predictions]\n",
    "predictions\n",
    "# predictions = [0 if x > 0.5 else 1 for x in predictions]\n",
    "\n",
    "# pred = model.predict(test)\n",
    "# pred\n",
    "# print(confusion_matrix(test.classes, pred > 0.5))"
   ]
  },
  {
   "cell_type": "code",
   "execution_count": 48,
   "id": "e0b7b8e8",
   "metadata": {},
   "outputs": [],
   "source": [
    "def plot_confusion_matrix(mat, target_names, title='Confusion Matrix', cmap=None):\n",
    "    accuracy = np.trace(mat) / float(np.sum(mat))\n",
    "    misclass = 1 - accuracy\n",
    "    \n",
    "    if cmap is None:\n",
    "        cmap = plt.get_cmap('Blues')\n",
    "\n",
    "    plt.figure(figsize=(8, 6))\n",
    "    plt.imshow(mat, interpolation='nearest', cmap=cmap)\n",
    "    plt.title(title)\n",
    "    plt.colorbar()\n",
    "    \n",
    "    plt.tight_layout()\n",
    "    plt.ylabel('True label')\n",
    "    plt.xlabel('Predicted label\\naccuracy={:0.4f}; misclass={:0.4f}'.format(accuracy, misclass))\n",
    "    plt.grid('off')\n",
    "    plt.show()"
   ]
  },
  {
   "cell_type": "code",
   "execution_count": 49,
   "id": "e35b0cbb",
   "metadata": {},
   "outputs": [
    {
     "ename": "ValueError",
     "evalue": "Classification metrics can't handle a mix of binary and unknown targets",
     "output_type": "error",
     "traceback": [
      "\u001b[1;31m---------------------------------------------------------------------------\u001b[0m",
      "\u001b[1;31mValueError\u001b[0m                                Traceback (most recent call last)",
      "Input \u001b[1;32mIn [49]\u001b[0m, in \u001b[0;36m<cell line: 3>\u001b[1;34m()\u001b[0m\n\u001b[0;32m      1\u001b[0m \u001b[38;5;28;01mfrom\u001b[39;00m \u001b[38;5;21;01msklearn\u001b[39;00m\u001b[38;5;21;01m.\u001b[39;00m\u001b[38;5;21;01mmetrics\u001b[39;00m \u001b[38;5;28;01mimport\u001b[39;00m confusion_matrix\n\u001b[1;32m----> 3\u001b[0m mat \u001b[38;5;241m=\u001b[39m \u001b[43mconfusion_matrix\u001b[49m\u001b[43m(\u001b[49m\u001b[43mreal\u001b[49m\u001b[43m,\u001b[49m\u001b[43m \u001b[49m\u001b[43mpredictions\u001b[49m\u001b[43m)\u001b[49m\n\u001b[0;32m      5\u001b[0m plot_confusion_matrix(mat, test_set\u001b[38;5;241m.\u001b[39mclass_names)\n",
      "File \u001b[1;32m~\\anaconda3\\envs\\project\\lib\\site-packages\\sklearn\\metrics\\_classification.py:307\u001b[0m, in \u001b[0;36mconfusion_matrix\u001b[1;34m(y_true, y_pred, labels, sample_weight, normalize)\u001b[0m\n\u001b[0;32m    222\u001b[0m \u001b[38;5;28;01mdef\u001b[39;00m \u001b[38;5;21mconfusion_matrix\u001b[39m(\n\u001b[0;32m    223\u001b[0m     y_true, y_pred, \u001b[38;5;241m*\u001b[39m, labels\u001b[38;5;241m=\u001b[39m\u001b[38;5;28;01mNone\u001b[39;00m, sample_weight\u001b[38;5;241m=\u001b[39m\u001b[38;5;28;01mNone\u001b[39;00m, normalize\u001b[38;5;241m=\u001b[39m\u001b[38;5;28;01mNone\u001b[39;00m\n\u001b[0;32m    224\u001b[0m ):\n\u001b[0;32m    225\u001b[0m     \u001b[38;5;124;03m\"\"\"Compute confusion matrix to evaluate the accuracy of a classification.\u001b[39;00m\n\u001b[0;32m    226\u001b[0m \n\u001b[0;32m    227\u001b[0m \u001b[38;5;124;03m    By definition a confusion matrix :math:`C` is such that :math:`C_{i, j}`\u001b[39;00m\n\u001b[1;32m   (...)\u001b[0m\n\u001b[0;32m    305\u001b[0m \u001b[38;5;124;03m    (0, 2, 1, 1)\u001b[39;00m\n\u001b[0;32m    306\u001b[0m \u001b[38;5;124;03m    \"\"\"\u001b[39;00m\n\u001b[1;32m--> 307\u001b[0m     y_type, y_true, y_pred \u001b[38;5;241m=\u001b[39m \u001b[43m_check_targets\u001b[49m\u001b[43m(\u001b[49m\u001b[43my_true\u001b[49m\u001b[43m,\u001b[49m\u001b[43m \u001b[49m\u001b[43my_pred\u001b[49m\u001b[43m)\u001b[49m\n\u001b[0;32m    308\u001b[0m     \u001b[38;5;28;01mif\u001b[39;00m y_type \u001b[38;5;129;01mnot\u001b[39;00m \u001b[38;5;129;01min\u001b[39;00m (\u001b[38;5;124m\"\u001b[39m\u001b[38;5;124mbinary\u001b[39m\u001b[38;5;124m\"\u001b[39m, \u001b[38;5;124m\"\u001b[39m\u001b[38;5;124mmulticlass\u001b[39m\u001b[38;5;124m\"\u001b[39m):\n\u001b[0;32m    309\u001b[0m         \u001b[38;5;28;01mraise\u001b[39;00m \u001b[38;5;167;01mValueError\u001b[39;00m(\u001b[38;5;124m\"\u001b[39m\u001b[38;5;132;01m%s\u001b[39;00m\u001b[38;5;124m is not supported\u001b[39m\u001b[38;5;124m\"\u001b[39m \u001b[38;5;241m%\u001b[39m y_type)\n",
      "File \u001b[1;32m~\\anaconda3\\envs\\project\\lib\\site-packages\\sklearn\\metrics\\_classification.py:93\u001b[0m, in \u001b[0;36m_check_targets\u001b[1;34m(y_true, y_pred)\u001b[0m\n\u001b[0;32m     90\u001b[0m     y_type \u001b[38;5;241m=\u001b[39m {\u001b[38;5;124m\"\u001b[39m\u001b[38;5;124mmulticlass\u001b[39m\u001b[38;5;124m\"\u001b[39m}\n\u001b[0;32m     92\u001b[0m \u001b[38;5;28;01mif\u001b[39;00m \u001b[38;5;28mlen\u001b[39m(y_type) \u001b[38;5;241m>\u001b[39m \u001b[38;5;241m1\u001b[39m:\n\u001b[1;32m---> 93\u001b[0m     \u001b[38;5;28;01mraise\u001b[39;00m \u001b[38;5;167;01mValueError\u001b[39;00m(\n\u001b[0;32m     94\u001b[0m         \u001b[38;5;124m\"\u001b[39m\u001b[38;5;124mClassification metrics can\u001b[39m\u001b[38;5;124m'\u001b[39m\u001b[38;5;124mt handle a mix of \u001b[39m\u001b[38;5;132;01m{0}\u001b[39;00m\u001b[38;5;124m and \u001b[39m\u001b[38;5;132;01m{1}\u001b[39;00m\u001b[38;5;124m targets\u001b[39m\u001b[38;5;124m\"\u001b[39m\u001b[38;5;241m.\u001b[39mformat(\n\u001b[0;32m     95\u001b[0m             type_true, type_pred\n\u001b[0;32m     96\u001b[0m         )\n\u001b[0;32m     97\u001b[0m     )\n\u001b[0;32m     99\u001b[0m \u001b[38;5;66;03m# We can't have more than one value on y_type => The set is no more needed\u001b[39;00m\n\u001b[0;32m    100\u001b[0m y_type \u001b[38;5;241m=\u001b[39m y_type\u001b[38;5;241m.\u001b[39mpop()\n",
      "\u001b[1;31mValueError\u001b[0m: Classification metrics can't handle a mix of binary and unknown targets"
     ]
    }
   ],
   "source": [
    "\n",
    "from sklearn.metrics import confusion_matrix\n",
    "\n",
    "mat = confusion_matrix(real, predictions)\n",
    "\n",
    "plot_confusion_matrix(mat, test_set.class_names)"
   ]
  },
  {
   "cell_type": "code",
   "execution_count": null,
   "id": "a4ec752d",
   "metadata": {},
   "outputs": [],
   "source": []
  }
 ],
 "metadata": {
  "kernelspec": {
   "display_name": "project",
   "language": "python",
   "name": "project"
  },
  "language_info": {
   "codemirror_mode": {
    "name": "ipython",
    "version": 3
   },
   "file_extension": ".py",
   "mimetype": "text/x-python",
   "name": "python",
   "nbconvert_exporter": "python",
   "pygments_lexer": "ipython3",
   "version": "3.10.4"
  }
 },
 "nbformat": 4,
 "nbformat_minor": 5
}
