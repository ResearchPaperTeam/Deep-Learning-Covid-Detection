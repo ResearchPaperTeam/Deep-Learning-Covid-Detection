{
 "cells": [
  {
   "cell_type": "code",
   "execution_count": 2,
   "id": "06350f75",
   "metadata": {},
   "outputs": [],
   "source": [
    "import os\n",
    "import tensorflow as tf\n",
    "import matplotlib.pyplot as plt\n",
    "import seaborn as sn\n",
    "import cv2\n",
    "import numpy as np\n",
    "import pandas as pd"
   ]
  },
  {
   "cell_type": "code",
   "execution_count": 3,
   "id": "5066e0c8",
   "metadata": {},
   "outputs": [],
   "source": [
    "from tensorflow.keras.preprocessing.image import ImageDataGenerator\n",
    "from tensorflow.keras.preprocessing import image_dataset_from_directory\n",
    "from tensorflow.keras.layers import Dense, GlobalAveragePooling2D, Dropout,MaxPooling2D , Conv2D,Flatten\n",
    "from tensorflow.keras.models import Sequential\n",
    "from sklearn.metrics import classification_report\n",
    "from keras.layers import Input, Lambda, Dense, Flatten\n",
    "from keras.models import Model\n",
    "from keras.applications.vgg16 import VGG16\n",
    "from keras.applications.vgg16 import preprocess_input\n",
    "from keras.preprocessing import image\n",
    "from keras.models import Sequential\n",
    "from tensorflow import keras\n",
    "from tensorflow.keras.layers import Activation,BatchNormalization"
   ]
  },
  {
   "cell_type": "code",
   "execution_count": 5,
   "id": "8967b85a",
   "metadata": {},
   "outputs": [
    {
     "data": {
      "text/plain": [
       "['NORMAL', 'PNEUMONIA']"
      ]
     },
     "execution_count": 5,
     "metadata": {},
     "output_type": "execute_result"
    }
   ],
   "source": [
    "os.listdir(r\"C:\\Users\\anmol\\impli\\xray_datasetNew_covid19\\train\")"
   ]
  },
  {
   "cell_type": "code",
   "execution_count": 6,
   "id": "aa15b92b",
   "metadata": {},
   "outputs": [
    {
     "name": "stdout",
     "output_type": "stream",
     "text": [
      "Current working directory: D:\\Users\\anmol\\Research Work\\CNN XRAY\\Github Repo\\VGG16\n"
     ]
    }
   ],
   "source": [
    "# Get the current working directory\n",
    "cwd = os.getcwd()\n",
    "\n",
    "# Print the current working directory\n",
    "print(\"Current working directory: {0}\".format(cwd))"
   ]
  },
  {
   "cell_type": "code",
   "execution_count": 16,
   "id": "6d563402",
   "metadata": {},
   "outputs": [],
   "source": [
    "train_dir= r\"C:\\Users\\anmol\\impli\\xray_datasetNew_covid19\\train\"\n",
    "test_dir= r\"C:\\Users\\anmol\\impli\\xray_datasetNew_covid19\\test\"\n",
    "val_dir= r\"C:\\Users\\anmol\\impli\\xray_datasetNew_covid19\\val\"\n",
    "\n",
    "num_pneumonia = len(os.listdir(os.path.join(train_dir, 'PNEUMONIA')))\n",
    "num_normal = len(os.listdir(os.path.join(train_dir, 'NORMAL')))"
   ]
  },
  {
   "cell_type": "code",
   "execution_count": 17,
   "id": "87ed5124",
   "metadata": {},
   "outputs": [
    {
     "name": "stdout",
     "output_type": "stream",
     "text": [
      "Weight for class 0: 0.74\n",
      "Weight for class 1: 0.26\n"
     ]
    }
   ],
   "source": [
    "weight_for_0 = num_pneumonia / (num_normal + num_pneumonia)\n",
    "weight_for_1 = num_normal / (num_normal + num_pneumonia)\n",
    "\n",
    "class_weight = {0: weight_for_0, 1: weight_for_1}\n",
    "\n",
    "print(f\"Weight for class 0: {weight_for_0:.2f}\")\n",
    "print(f\"Weight for class 1: {weight_for_1:.2f}\")"
   ]
  },
  {
   "cell_type": "code",
   "execution_count": 18,
   "id": "c1b18db7",
   "metadata": {},
   "outputs": [],
   "source": [
    "image_generator = ImageDataGenerator(\n",
    "    rotation_range=20,\n",
    "    width_shift_range=0.1,\n",
    "    shear_range=0.1,\n",
    "    zoom_range=0.1,\n",
    "    samplewise_center=True,\n",
    "    samplewise_std_normalization=True\n",
    ")"
   ]
  },
  {
   "cell_type": "code",
   "execution_count": 19,
   "id": "07cfdfd3",
   "metadata": {},
   "outputs": [
    {
     "name": "stdout",
     "output_type": "stream",
     "text": [
      "Found 5216 images belonging to 2 classes.\n",
      "Found 624 images belonging to 2 classes.\n",
      "Found 16 images belonging to 2 classes.\n"
     ]
    }
   ],
   "source": [
    "train = image_generator.flow_from_directory(train_dir, \n",
    "                                            batch_size=8, \n",
    "                                            shuffle=True, \n",
    "                                            class_mode='binary',\n",
    "                                            target_size=(180, 180))\n",
    "\n",
    "\n",
    "test = image_generator.flow_from_directory(test_dir, \n",
    "                                            batch_size=1, \n",
    "                                            shuffle=False, \n",
    "                                            class_mode='binary',\n",
    "                                            target_size=(180, 180))\n",
    "\n",
    "validation = image_generator.flow_from_directory(val_dir, \n",
    "                                                batch_size=1, \n",
    "                                                shuffle=False, \n",
    "                                                class_mode='binary',\n",
    "                                                target_size=(180, 180))"
   ]
  },
  {
   "cell_type": "code",
   "execution_count": 20,
   "id": "faa6e2cd",
   "metadata": {},
   "outputs": [],
   "source": [
    "from keras.models import Sequential\n",
    "from keras.layers import GlobalAveragePooling2D\n",
    "from keras.applications import VGG16\n",
    "\n",
    "\n",
    "vgg16_base_model = VGG16(input_shape=(180,180,3),include_top=False,weights='imagenet')"
   ]
  },
  {
   "cell_type": "code",
   "execution_count": 21,
   "id": "63973be9",
   "metadata": {},
   "outputs": [
    {
     "name": "stdout",
     "output_type": "stream",
     "text": [
      "Model: \"vgg16\"\n",
      "_________________________________________________________________\n",
      " Layer (type)                Output Shape              Param #   \n",
      "=================================================================\n",
      " input_2 (InputLayer)        [(None, 180, 180, 3)]     0         \n",
      "                                                                 \n",
      " block1_conv1 (Conv2D)       (None, 180, 180, 64)      1792      \n",
      "                                                                 \n",
      " block1_conv2 (Conv2D)       (None, 180, 180, 64)      36928     \n",
      "                                                                 \n",
      " block1_pool (MaxPooling2D)  (None, 90, 90, 64)        0         \n",
      "                                                                 \n",
      " block2_conv1 (Conv2D)       (None, 90, 90, 128)       73856     \n",
      "                                                                 \n",
      " block2_conv2 (Conv2D)       (None, 90, 90, 128)       147584    \n",
      "                                                                 \n",
      " block2_pool (MaxPooling2D)  (None, 45, 45, 128)       0         \n",
      "                                                                 \n",
      " block3_conv1 (Conv2D)       (None, 45, 45, 256)       295168    \n",
      "                                                                 \n",
      " block3_conv2 (Conv2D)       (None, 45, 45, 256)       590080    \n",
      "                                                                 \n",
      " block3_conv3 (Conv2D)       (None, 45, 45, 256)       590080    \n",
      "                                                                 \n",
      " block3_pool (MaxPooling2D)  (None, 22, 22, 256)       0         \n",
      "                                                                 \n",
      " block4_conv1 (Conv2D)       (None, 22, 22, 512)       1180160   \n",
      "                                                                 \n",
      " block4_conv2 (Conv2D)       (None, 22, 22, 512)       2359808   \n",
      "                                                                 \n",
      " block4_conv3 (Conv2D)       (None, 22, 22, 512)       2359808   \n",
      "                                                                 \n",
      " block4_pool (MaxPooling2D)  (None, 11, 11, 512)       0         \n",
      "                                                                 \n",
      " block5_conv1 (Conv2D)       (None, 11, 11, 512)       2359808   \n",
      "                                                                 \n",
      " block5_conv2 (Conv2D)       (None, 11, 11, 512)       2359808   \n",
      "                                                                 \n",
      " block5_conv3 (Conv2D)       (None, 11, 11, 512)       2359808   \n",
      "                                                                 \n",
      " block5_pool (MaxPooling2D)  (None, 5, 5, 512)         0         \n",
      "                                                                 \n",
      "=================================================================\n",
      "Total params: 14,714,688\n",
      "Trainable params: 14,714,688\n",
      "Non-trainable params: 0\n",
      "_________________________________________________________________\n"
     ]
    }
   ],
   "source": [
    "vgg16_base_model.summary()"
   ]
  },
  {
   "cell_type": "code",
   "execution_count": 22,
   "id": "5bb1db64",
   "metadata": {},
   "outputs": [],
   "source": [
    "vgg16_model = Sequential([\n",
    "        vgg16_base_model,\n",
    "        GlobalAveragePooling2D(),\n",
    "        Dense(512, activation=\"relu\"),\n",
    "        BatchNormalization(),\n",
    "        Dropout(0.6),\n",
    "        Dense(128, activation=\"relu\"),\n",
    "        BatchNormalization(),\n",
    "        Dropout(0.4),\n",
    "        Dense(64,activation=\"relu\"),\n",
    "        BatchNormalization(),\n",
    "        Dropout(0.3),\n",
    "        Dense(1,activation=\"sigmoid\")\n",
    "    ])\n",
    "    \n",
    "model = Sequential()\n",
    "model.add(vgg16_model.layers[0])"
   ]
  },
  {
   "cell_type": "code",
   "execution_count": 23,
   "id": "05326a11",
   "metadata": {},
   "outputs": [],
   "source": [
    "opt = tf.keras.optimizers.Adam(learning_rate=0.001)\n",
    "METRICS = [\n",
    "    'accuracy',\n",
    "    tf.keras.metrics.Precision(name='precision'),\n",
    "    tf.keras.metrics.Recall(name='recall')\n",
    "]\n",
    "vgg16_model.compile(optimizer=opt,loss='binary_crossentropy',metrics=METRICS)"
   ]
  },
  {
   "cell_type": "code",
   "execution_count": 25,
   "id": "0c8b9ac0",
   "metadata": {},
   "outputs": [
    {
     "name": "stdout",
     "output_type": "stream",
     "text": [
      "Epoch 1/10\n",
      "100/100 [==============================] - ETA: 0s - loss: 0.2512 - accuracy: 0.6475 - precision: 0.9031 - recall: 0.5920WARNING:tensorflow:Your input ran out of data; interrupting training. Make sure that your dataset or generator can generate at least `steps_per_epoch * epochs` batches (in this case, 25 batches). You may need to use the repeat() function when building your dataset.\n",
      "100/100 [==============================] - 214s 2s/step - loss: 0.2512 - accuracy: 0.6475 - precision: 0.9031 - recall: 0.5920 - val_loss: 0.6039 - val_accuracy: 0.6250 - val_precision: 0.6667 - val_recall: 0.5000\n",
      "Epoch 2/10\n",
      "100/100 [==============================] - 226s 2s/step - loss: 0.1972 - accuracy: 0.7462 - precision: 0.9322 - recall: 0.7124\n",
      "Epoch 3/10\n",
      "100/100 [==============================] - 225s 2s/step - loss: 0.1827 - accuracy: 0.7475 - precision: 0.9379 - recall: 0.7169\n",
      "Epoch 4/10\n",
      "100/100 [==============================] - 219s 2s/step - loss: 0.1937 - accuracy: 0.7638 - precision: 0.9267 - recall: 0.7484\n",
      "Epoch 5/10\n",
      "100/100 [==============================] - 216s 2s/step - loss: 0.1787 - accuracy: 0.7862 - precision: 0.9284 - recall: 0.7695\n",
      "Epoch 6/10\n",
      "100/100 [==============================] - 214s 2s/step - loss: 0.1762 - accuracy: 0.7837 - precision: 0.9265 - recall: 0.7682\n",
      "Epoch 7/10\n",
      "100/100 [==============================] - 228s 2s/step - loss: 0.1828 - accuracy: 0.7837 - precision: 0.9262 - recall: 0.7674\n",
      "Epoch 8/10\n",
      "100/100 [==============================] - 210s 2s/step - loss: 0.1870 - accuracy: 0.7638 - precision: 0.9237 - recall: 0.7467\n",
      "Epoch 9/10\n",
      "100/100 [==============================] - 214s 2s/step - loss: 0.1761 - accuracy: 0.7937 - precision: 0.9379 - recall: 0.7774\n",
      "Epoch 10/10\n",
      "100/100 [==============================] - 225s 2s/step - loss: 0.1677 - accuracy: 0.7837 - precision: 0.9427 - recall: 0.7525\n"
     ]
    }
   ],
   "source": [
    "r = vgg16_model.fit(train,\n",
    "          epochs=10,\n",
    "          validation_data= validation,\n",
    "          class_weight=class_weight,\n",
    "          steps_per_epoch=100,\n",
    "          \n",
    "                    validation_steps=25,\n",
    ")\n",
    "# #         steps_per_epoch=100,\n",
    "#           steps_per_epoch = len(train)//batch_size,\n",
    "#           validation_steps=len(test)//batch_size"
   ]
  },
  {
   "cell_type": "code",
   "execution_count": 26,
   "id": "8ff6391b",
   "metadata": {},
   "outputs": [],
   "source": [
    "accuracy = r.history['accuracy']\n",
    "val_accuracy  = r.history['val_accuracy']\n",
    "\n",
    "loss = r.history['loss']\n",
    "val_loss = r.history['val_loss']"
   ]
  },
  {
   "cell_type": "code",
   "execution_count": 29,
   "id": "9dd47b33",
   "metadata": {},
   "outputs": [
    {
     "data": {
      "text/plain": [
       "Text(0.5, 1.0, 'Accuracy Evolution')"
      ]
     },
     "execution_count": 29,
     "metadata": {},
     "output_type": "execute_result"
    },
    {
     "data": {
      "image/png": "[encoded data removed]",
      "text/plain": [
       "<Figure size 864x576 with 2 Axes>"
      ]
     },
     "metadata": {
      "needs_background": "light"
     },
     "output_type": "display_data"
    }
   ],
   "source": [
    "plt.figure(figsize=(12, 8))\n",
    "\n",
    "plt.subplot(2, 2, 1)\n",
    "plt.plot(r.history['loss'], label='Loss')\n",
    "plt.plot(r.history['val_loss'], label='Val_Loss')\n",
    "plt.legend()\n",
    "plt.title('Loss Evolution')\n",
    "\n",
    "plt.subplot(2, 2, 2)\n",
    "plt.plot(r.history['accuracy'], label='Accuracy')\n",
    "plt.plot(r.history['val_accuracy'], label='Val_Accuracy')\n",
    "plt.legend()\n",
    "plt.title('Accuracy Evolution')"
   ]
  },
  {
   "cell_type": "code",
   "execution_count": 30,
   "id": "5a78a5fd",
   "metadata": {},
   "outputs": [
    {
     "name": "stdout",
     "output_type": "stream",
     "text": [
      "624/624 [==============================] - 108s 173ms/step - loss: 1.0401 - accuracy: 0.5369 - precision: 0.9720 - recall: 0.2667\n",
      "Test Accuracy: 53.69%\n",
      "652/652 [==============================] - 522s 799ms/step - loss: 1.2065 - accuracy: 0.4630 - precision: 0.9981 - recall: 0.2777\n",
      "Train Accuracy: 46.30%\n"
     ]
    }
   ],
   "source": [
    "evaluation =vgg16_model.evaluate(test)\n",
    "print(f\"Test Accuracy: {evaluation[1] * 100:.2f}%\")\n",
    "\n",
    "evaluation = vgg16_model.evaluate(train)\n",
    "print(f\"Train Accuracy: {evaluation[1] * 100:.2f}%\")"
   ]
  },
  {
   "cell_type": "code",
   "execution_count": null,
   "id": "a2df3c10",
   "metadata": {},
   "outputs": [],
   "source": [
    "from sklearn.metrics import confusion_matrix, classification_report\n",
    "\n",
    "pred = model.predict(test)\n",
    "\n",
    "print(confusion_matrix(test.classes, pred > 0.5))\n",
    "pd.DataFrame(classification_report(test.classes, pred > 0.5, output_dict=True))"
   ]
  }
 ],
 "metadata": {
  "kernelspec": {
   "display_name": "project",
   "language": "python",
   "name": "project"
  },
  "language_info": {
   "codemirror_mode": {
    "name": "ipython",
    "version": 3
   },
   "file_extension": ".py",
   "mimetype": "text/x-python",
   "name": "python",
   "nbconvert_exporter": "python",
   "pygments_lexer": "ipython3",
   "version": "3.10.4"
  }
 },
 "nbformat": 4,
 "nbformat_minor": 5
}
