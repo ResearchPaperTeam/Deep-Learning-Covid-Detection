{
 "cells": [
  {
   "cell_type": "code",
   "execution_count": 5,
   "id": "71823e07",
   "metadata": {},
   "outputs": [],
   "source": [
    "import os\n",
    "import tensorflow as tf\n",
    "from tensorflow.keras.preprocessing.image import ImageDataGenerator\n",
    "from tensorflow.keras.preprocessing import image_dataset_from_directory\n",
    "\n",
    "from tensorflow.keras.layers import Dense, GlobalAveragePooling2D, Dropout,MaxPooling2D , Conv2D,Flatten\n",
    "from tensorflow.keras.models import Sequential\n",
    "\n",
    "from sklearn.metrics import classification_report\n",
    "\n",
    "import matplotlib.pyplot as plt\n",
    "import seaborn as sn\n",
    "import cv2\n",
    "import numpy as np # linear algebra\n",
    "import pandas as pd\n",
    "# import glob"
   ]
  },
  {
   "cell_type": "code",
   "execution_count": 6,
   "id": "621ab5fa",
   "metadata": {},
   "outputs": [],
   "source": [
    "train_dir= r\"C:\\Users\\anmol\\impli\\xray_dataset_covid19\\train\"\n",
    "test_dir= r\"C:\\Users\\anmol\\impli\\xray_dataset_covid19\\test\""
   ]
  },
  {
   "cell_type": "code",
   "execution_count": 7,
   "id": "29c0311c",
   "metadata": {},
   "outputs": [
    {
     "name": "stdout",
     "output_type": "stream",
     "text": [
      "Current working directory: C:\\Users\\anmol\\impli\n"
     ]
    }
   ],
   "source": [
    "# Get the current working directory\n",
    "cwd = os.getcwd()\n",
    "\n",
    "# Print the current working directory\n",
    "print(\"Current working directory: {0}\".format(cwd))"
   ]
  },
  {
   "cell_type": "code",
   "execution_count": 8,
   "id": "30490e96",
   "metadata": {},
   "outputs": [
    {
     "name": "stdout",
     "output_type": "stream",
     "text": [
      "['NORMAL', 'PNEUMONIA']\n"
     ]
    }
   ],
   "source": [
    "classes=os.listdir(train_dir)\n",
    "print(classes)"
   ]
  },
  {
   "cell_type": "code",
   "execution_count": 9,
   "id": "e8e9c6f1",
   "metadata": {
    "scrolled": true
   },
   "outputs": [],
   "source": [
    "data_num=[0,0]\n",
    "for cl in classes:\n",
    "    data_num[0]+=len(os.listdir(os.path.join(train_dir,cl)))\n",
    "    data_num[1]+=len(os.listdir(os.path.join(test_dir,cl)))"
   ]
  },
  {
   "cell_type": "code",
   "execution_count": 10,
   "id": "17d5931b",
   "metadata": {},
   "outputs": [
    {
     "data": {
      "image/png": "[encoded data removed]",
      "text/plain": [
       "<Figure size 1080x720 with 1 Axes>"
      ]
     },
     "metadata": {},
     "output_type": "display_data"
    }
   ],
   "source": [
    "plt.figure(figsize=(15, 10))\n",
    "plt.pie(x=np.array([x for x in data_num]), autopct=\"%.1f%%\", explode=[0.1, 0.1], labels=[\"Training Data\", \"Test Data\"], pctdistance=0.5)\n",
    "plt.title(\"Share of train and test images\", fontsize=14);"
   ]
  },
  {
   "cell_type": "code",
   "execution_count": 11,
   "id": "c9aff779",
   "metadata": {},
   "outputs": [],
   "source": [
    "count={}\n",
    "for x in classes:\n",
    "    num=len(os.listdir(os.path.join(train_dir,x)))\n",
    "    count[x]=num"
   ]
  },
  {
   "cell_type": "code",
   "execution_count": 12,
   "id": "f9472821",
   "metadata": {},
   "outputs": [
    {
     "data": {
      "image/png": "[encoded data removed]",
      "text/plain": [
       "<Figure size 360x216 with 1 Axes>"
      ]
     },
     "metadata": {
      "needs_background": "light"
     },
     "output_type": "display_data"
    }
   ],
   "source": [
    "plt.figure(figsize=(5,3))\n",
    "plt.bar(list(count.keys()), list(count.values()), width=0.4,align=\"center\" )\n",
    "plt.xticks(rotation=90)\n",
    "\n",
    "plt.xlabel(\"Type of Diagnosis\")\n",
    "plt.ylabel(\"Number of Diagnosed\")\n",
    "plt.show()"
   ]
  },
  {
   "cell_type": "code",
   "execution_count": 13,
   "id": "7deefff6",
   "metadata": {},
   "outputs": [],
   "source": [
    "IMG_WIDTH=224\n",
    "IMG_HEIGHT=224\n",
    "\n",
    "IMG_SHAPE=(IMG_HEIGHT,IMG_WIDTH)\n",
    "\n",
    "BATCH_SIZE=16\n",
    "\n",
    "seed=69\n",
    "\n",
    "INPUT_SHAPE=(IMG_HEIGHT,IMG_WIDTH,3)"
   ]
  },
  {
   "cell_type": "code",
   "execution_count": 14,
   "id": "4000c634",
   "metadata": {},
   "outputs": [
    {
     "name": "stdout",
     "output_type": "stream",
     "text": [
      "Found 148 files belonging to 2 classes.\n",
      "Using 119 files for training.\n",
      "Found 148 files belonging to 2 classes.\n",
      "Using 29 files for validation.\n",
      "Found 40 files belonging to 2 classes.\n"
     ]
    }
   ],
   "source": [
    "train_set=image_dataset_from_directory(\n",
    "    train_dir,\n",
    "    label_mode=\"categorical\",\n",
    "    batch_size=BATCH_SIZE,\n",
    "    image_size=IMG_SHAPE,\n",
    "    shuffle=True,\n",
    "    seed=seed,\n",
    "    validation_split=0.2,\n",
    "    subset=\"training\",\n",
    ")\n",
    "\n",
    "val_set=image_dataset_from_directory(\n",
    "    train_dir,\n",
    "    label_mode=\"categorical\",\n",
    "    batch_size=BATCH_SIZE,\n",
    "    image_size=IMG_SHAPE,\n",
    "    shuffle=True,\n",
    "    seed=seed,\n",
    "    validation_split=0.2,\n",
    "    subset=\"validation\",\n",
    ")\n",
    "\n",
    "test_set=image_dataset_from_directory(\n",
    "    test_dir,\n",
    "    label_mode=\"categorical\",\n",
    "    class_names=None,\n",
    "    batch_size=BATCH_SIZE,\n",
    "    image_size=IMG_SHAPE,\n",
    "    shuffle=False,\n",
    "    seed=seed,\n",
    ")"
   ]
  },
  {
   "cell_type": "code",
   "execution_count": 2,
   "id": "67d78608",
   "metadata": {},
   "outputs": [
    {
     "ename": "NameError",
     "evalue": "name 'model' is not defined",
     "output_type": "error",
     "traceback": [
      "\u001b[1;31m---------------------------------------------------------------------------\u001b[0m",
      "\u001b[1;31mNameError\u001b[0m                                 Traceback (most recent call last)",
      "Input \u001b[1;32mIn [2]\u001b[0m, in \u001b[0;36m<cell line: 27>\u001b[1;34m()\u001b[0m\n\u001b[0;32m     25\u001b[0m \u001b[38;5;66;03m# prediction = Dense(len(folders), activation='sigmoid')(x)\u001b[39;00m\n\u001b[0;32m     26\u001b[0m prediction \u001b[38;5;241m=\u001b[39m Dense(\u001b[38;5;28mlen\u001b[39m(folders), activation\u001b[38;5;241m=\u001b[39m\u001b[38;5;124m'\u001b[39m\u001b[38;5;124msigmoid\u001b[39m\u001b[38;5;124m'\u001b[39m)(x)\n\u001b[1;32m---> 27\u001b[0m \u001b[43mmodel\u001b[49m\u001b[38;5;241m.\u001b[39madd(Dense(\u001b[38;5;241m1\u001b[39m,activation\u001b[38;5;241m=\u001b[39m\u001b[38;5;124m'\u001b[39m\u001b[38;5;124msigmoid\u001b[39m\u001b[38;5;124m'\u001b[39m))\n\u001b[0;32m     28\u001b[0m \u001b[38;5;66;03m# 1 the number of outputs \u001b[39;00m\n\u001b[0;32m     29\u001b[0m model \u001b[38;5;241m=\u001b[39m Model(inputs\u001b[38;5;241m=\u001b[39mvgg\u001b[38;5;241m.\u001b[39minput, outputs\u001b[38;5;241m=\u001b[39mprediction)\n",
      "\u001b[1;31mNameError\u001b[0m: name 'model' is not defined"
     ]
    }
   ],
   "source": [
    "from keras.layers import Input, Lambda, Dense, Flatten\n",
    "from keras.models import Model\n",
    "from keras.applications.vgg16 import VGG16\n",
    "from keras.applications.vgg16 import preprocess_input\n",
    "from keras.preprocessing import image\n",
    "from keras.preprocessing.image import ImageDataGenerator\n",
    "from keras.models import Sequential\n",
    "\n",
    "from tensorflow import keras\n",
    "from tensorflow.keras.models import Sequential\n",
    "from tensorflow.keras.layers import Dense,Flatten,MaxPooling2D,Conv2D,Dropout,Activation,BatchNormalization\n",
    "IMAGE_SIZE = [224, 224] \n",
    "\n",
    "vgg = VGG16(input_shape=IMAGE_SIZE + [3], weights='imagenet', include_top=False)\n",
    "for layer in vgg.layers:\n",
    "  layer.trainable = False\n",
    "\n",
    "from glob import glob\n",
    "import matplotlib.pyplot as plt\n",
    "\n",
    "folders = glob('Datasets/impli/xray_dataset_covid19/train/*')\n",
    "\n",
    "x = Flatten()(vgg.output)\n",
    "\n",
    "\n",
    "\n",
    "# prediction = Dense(len(folders), activation='sigmoid')(x)\n",
    "prediction = Dense(len(folders), activation='sigmoid')(x)\n",
    "model.add(Dense(1,activation='sigmoid'))\n",
    "# 1 the number of outputs \n",
    "model = Model(inputs=vgg.input, outputs=prediction)\n",
    "\n"
   ]
  },
  {
   "cell_type": "code",
   "execution_count": 17,
   "id": "9c6af8ee",
   "metadata": {},
   "outputs": [
    {
     "name": "stdout",
     "output_type": "stream",
     "text": [
      "Model: \"sequential\"\n",
      "_________________________________________________________________\n",
      " Layer (type)                Output Shape              Param #   \n",
      "=================================================================\n",
      " vgg16 (Functional)          (None, 7, 7, 512)         14714688  \n",
      "                                                                 \n",
      " flatten_1 (Flatten)         (None, 25088)             0         \n",
      "                                                                 \n",
      " dropout (Dropout)           (None, 25088)             0         \n",
      "                                                                 \n",
      " dense (Dense)               (None, 1)                 25089     \n",
      "                                                                 \n",
      "=================================================================\n",
      "Total params: 14,739,777\n",
      "Trainable params: 14,739,777\n",
      "Non-trainable params: 0\n",
      "_________________________________________________________________\n"
     ]
    }
   ],
   "source": [
    "EPOCH=50\n",
    "STEPS=8\n",
    "\n",
    "\n",
    "model.compile(\n",
    "    loss='binary_crossentropy',\n",
    "    optimizer=tf.keras.optimizers.Adam(),\n",
    "    metrics=['accuracy']\n",
    ")\n",
    "\n",
    "model.summary()\n",
    "\n",
    "callback = tf.keras.callbacks.EarlyStopping(monitor='accuracy', patience=8)\n"
   ]
  },
  {
   "cell_type": "code",
   "execution_count": 18,
   "id": "cc648c07",
   "metadata": {},
   "outputs": [
    {
     "name": "stdout",
     "output_type": "stream",
     "text": [
      "Found 148 images belonging to 2 classes.\n"
     ]
    }
   ],
   "source": [
    "# train_datagen = ImageDataGenerator(rescale = 1./255,\n",
    "#                                    shear_range = 0.2,\n",
    "#                                    zoom_range = 0.2,\n",
    "#                                    horizontal_flip = True)\n",
    "\n",
    "# test_datagen = ImageDataGenerator(rescale = 1./255)\n",
    "\n",
    "# training_set = train_datagen.flow_from_directory(r\"C:\\Users\\anmol\\impli\\xray_dataset_covid19\\train\",\n",
    "#                                                  target_size = (224, 224),\n",
    "#                                                  batch_size = 32,\n",
    "#                                                  class_mode = 'categorical')\n",
    "\n",
    "# test_set = test_datagen.flow_from_directory(r\"C:\\Users\\anmol\\impli\\xray_dataset_covid19\\test\",\n",
    "#                                             target_size = (224, 224),\n",
    "#                                             batch_size = 32,\n",
    "#                                             class_mode = 'categorical')\n",
    "\n",
    "import tensorflow as tf\n",
    "from tensorflow.keras.preprocessing.image import ImageDataGenerator\n",
    "\n",
    "train_datagen=ImageDataGenerator(\n",
    "    zoom_range=0.2, #the amount of zooming u need\n",
    "    horizontal_flip=True, # Make a horizontal copy of image\n",
    "    rescale=1.0/255.0, # Normalize the new images\n",
    "    width_shift_range=0.10, # The percentage of Width shifitning\n",
    "    height_shift_range=0.10, # The percentage of height shifitning\n",
    "    shear_range=0.1 #Shear angle in counter-clockwise direction in degrees\n",
    ")\n",
    "training_set=train_datagen.flow_from_directory(\n",
    "    train_dir,\n",
    "    class_mode='binary',\n",
    "    color_mode='rgb',\n",
    "    batch_size=32,\n",
    "    target_size=(1000,1000,3)[:2]\n",
    ")\n"
   ]
  },
  {
   "cell_type": "code",
   "execution_count": 19,
   "id": "24c2d36f",
   "metadata": {},
   "outputs": [
    {
     "name": "stdout",
     "output_type": "stream",
     "text": [
      "Found 40 images belonging to 2 classes.\n"
     ]
    }
   ],
   "source": [
    "# Second for Testing data\n",
    "test_datagen=ImageDataGenerator(\n",
    "    rescale=1.0/255.0\n",
    ")\n",
    "test_set=test_datagen.flow_from_directory(\n",
    "    test_dir,\n",
    "    class_mode='binary',\n",
    "    color_mode='rgb',\n",
    "    batch_size=32,\n",
    "    target_size=(1000,1000,3)[:2]\n",
    ")"
   ]
  },
  {
   "cell_type": "code",
   "execution_count": null,
   "id": "a16c34c8",
   "metadata": {},
   "outputs": [
    {
     "name": "stdout",
     "output_type": "stream",
     "text": [
      "Epoch 1/5\n"
     ]
    }
   ],
   "source": [
    "# history = model.fit(train_set, validation_data=val_set, steps_per_epoch = STEPS, epochs=EPOCH,callbacks=callback)\n",
    "\n",
    "r = model.fit(\n",
    "  training_set,\n",
    "  validation_data=test_set,\n",
    "  epochs=5,\n",
    "  steps_per_epoch=len(training_set),  \n",
    "  validation_steps=len(test_set)\n",
    ")\n",
    "\n",
    "# loss\n",
    "plt.plot(r.history['loss'], label='train loss')\n",
    "plt.plot(r.history['val_loss'], label='val loss')\n",
    "plt.legend()\n",
    "plt.show()\n",
    "plt.savefig('LossVal_loss')\n",
    "\n",
    "# accuracies\n",
    "plt.plot(r.history['acc'], label='train acc')\n",
    "plt.plot(r.history['val_acc'], label='val acc')\n",
    "plt.legend()\n",
    "plt.show()\n",
    "plt.savefig('AccVal_acc')"
   ]
  },
  {
   "cell_type": "code",
   "execution_count": null,
   "id": "7ad5de16",
   "metadata": {},
   "outputs": [],
   "source": []
  },
  {
   "cell_type": "code",
   "execution_count": null,
   "id": "1ef00e56",
   "metadata": {},
   "outputs": [],
   "source": []
  }
 ],
 "metadata": {
  "kernelspec": {
   "display_name": "project",
   "language": "python",
   "name": "project"
  },
  "language_info": {
   "codemirror_mode": {
    "name": "ipython",
    "version": 3
   },
   "file_extension": ".py",
   "mimetype": "text/x-python",
   "name": "python",
   "nbconvert_exporter": "python",
   "pygments_lexer": "ipython3",
   "version": "3.10.4"
  }
 },
 "nbformat": 4,
 "nbformat_minor": 5
}
